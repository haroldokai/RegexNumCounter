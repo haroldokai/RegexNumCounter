{
 "cells": [
  {
   "cell_type": "code",
   "execution_count": 28,
   "id": "54109c69",
   "metadata": {},
   "outputs": [],
   "source": [
    "import re\n",
    "\n",
    "myfile = open(\"RegexNumCounttext.txt\")\n",
    "txt = myfile.read()\n",
    "numbers=re.findall('\\d+',txt)\n",
    "#type(total)\n",
    "myfile.close()"
   ]
  },
  {
   "cell_type": "code",
   "execution_count": null,
   "id": "75a1db82",
   "metadata": {},
   "outputs": [],
   "source": [
    "numbers=re.findall('\\d+',string)"
   ]
  },
  {
   "cell_type": "code",
   "execution_count": 26,
   "id": "c23719d1",
   "metadata": {},
   "outputs": [
    {
     "name": "stdout",
     "output_type": "stream",
     "text": [
      "['6503', '7708', '1107', '647', '2454', '5193', '3356', '2903', '9666', '3451', '1237', '5632', '9536', '146', '733', '8110', '8724', '2784', '9456', '9938', '6329', '2935', '9433', '8104', '1676', '5378', '9362', '8505', '5971', '9768', '1304', '1798', '9526', '5053', '9961', '117', '9405', '640', '195', '4', '7420', '9550', '3491', '148', '2295', '5497', '7442', '4238', '5717', '3467', '5596', '1843', '4923', '3546', '7495', '9208', '6087', '2718', '7809', '5307', '6914', '9982', '692', '5872', '2800', '8854', '5943', '4436', '9781', '7640', '7820', '89', '7150', '1731', '6291', '40', '1384', '1970', '990', '3634', '6011', '3764', '4345', '2719', '2030', '6194', '5200', '441', '6670', '6817', '8976', '4', '3', '42']\n"
     ]
    }
   ],
   "source": [
    "number=re.findall('\\d+',txt)\n",
    "print(number)"
   ]
  },
  {
   "cell_type": "code",
   "execution_count": 27,
   "id": "d830e1ba",
   "metadata": {},
   "outputs": [
    {
     "name": "stdout",
     "output_type": "stream",
     "text": [
      "455774\n"
     ]
    },
    {
     "data": {
      "text/plain": [
       "int"
      ]
     },
     "execution_count": 27,
     "metadata": {},
     "output_type": "execute_result"
    }
   ],
   "source": [
    "total = 0\n",
    "for n in number:\n",
    "    n=int(n)\n",
    "    total+=n\n",
    "print(total)\n",
    "type(total)"
   ]
  },
  {
   "cell_type": "code",
   "execution_count": null,
   "id": "2ecf6a73",
   "metadata": {},
   "outputs": [],
   "source": [
    "\n",
    "number=re.findall('\\d+',string)\n",
    "print(number)"
   ]
  },
  {
   "cell_type": "code",
   "execution_count": 17,
   "id": "11762458",
   "metadata": {},
   "outputs": [
    {
     "data": {
      "text/plain": [
       "int"
      ]
     },
     "execution_count": 17,
     "metadata": {},
     "output_type": "execute_result"
    }
   ],
   "source": [
    "b = '7'\n",
    "b=int(b)\n",
    "type(b)"
   ]
  },
  {
   "cell_type": "code",
   "execution_count": null,
   "id": "7611e273",
   "metadata": {},
   "outputs": [],
   "source": []
  }
 ],
 "metadata": {
  "kernelspec": {
   "display_name": "Python 3 (ipykernel)",
   "language": "python",
   "name": "python3"
  },
  "language_info": {
   "codemirror_mode": {
    "name": "ipython",
    "version": 3
   },
   "file_extension": ".py",
   "mimetype": "text/x-python",
   "name": "python",
   "nbconvert_exporter": "python",
   "pygments_lexer": "ipython3",
   "version": "3.9.12"
  }
 },
 "nbformat": 4,
 "nbformat_minor": 5
}
